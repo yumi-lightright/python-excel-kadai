{
  "nbformat": 4,
  "nbformat_minor": 0,
  "metadata": {
    "colab": {
      "provenance": []
    },
    "kernelspec": {
      "name": "python3",
      "display_name": "Python 3"
    },
    "language_info": {
      "name": "python"
    }
  },
  "cells": [
    {
      "cell_type": "code",
      "execution_count": 1,
      "metadata": {
        "colab": {
          "base_uri": "https://localhost:8080/"
        },
        "id": "MaARi8Wgstlc",
        "outputId": "b717b609-1aa4-4a38-c486-11371318a433"
      },
      "outputs": [
        {
          "output_type": "stream",
          "name": "stdout",
          "text": [
            "売上集計表を作成し、書式設定を適用しました: 売上集計表.xlsx\n"
          ]
        }
      ],
      "source": [
        "import pandas as pd\n",
        "import openpyxl\n",
        "from openpyxl.styles import PatternFill\n",
        "\n",
        "# Step 1: Excelファイルの読み込み\n",
        "file_2022 = \"2022_年間売上表.xlsx\"\n",
        "file_2023 = \"2023_年間売上表.xlsx\"\n",
        "\n",
        "# 各Excelファイルのデータを読み込み\n",
        "data_2022 = pd.read_excel(file_2022, sheet_name=\"Sheet1\")\n",
        "data_2023 = pd.read_excel(file_2023, sheet_name=\"Sheet1\")\n",
        "\n",
        "# Step 2: データの連結\n",
        "combined_data = pd.concat([data_2022, data_2023], ignore_index=True)\n",
        "\n",
        "# Step 3: データの集計\n",
        "# 商品、売上年ごとにグループ化し、金額の合計を集約\n",
        "summary_data = combined_data.groupby([\"商品\", \"売上年\"]).sum().reset_index()\n",
        "\n",
        "# 集計結果を新規Excelファイルに書き込み\n",
        "output_file = \"売上集計表.xlsx\"\n",
        "summary_data.to_excel(output_file, index=False)\n",
        "\n",
        "# Step 4: Excelファイルのヘッダー書式設定\n",
        "# openpyxlを使用して書式設定を行う\n",
        "wb = openpyxl.load_workbook(output_file)\n",
        "ws = wb.active\n",
        "\n",
        "# ヘッダー部分（1行目）を薄いグレーに設定\n",
        "header_fill = PatternFill(start_color=\"F2F2F2\", end_color=\"F2F2F2\", fill_type=\"solid\")\n",
        "\n",
        "for cell in ws[1]:  # 1行目の各セルに書式を適用\n",
        "    cell.fill = header_fill\n",
        "\n",
        "# ファイルを保存\n",
        "wb.save(output_file)\n",
        "print(f\"売上集計表を作成し、書式設定を適用しました: {output_file}\")"
      ]
    }
  ]
}
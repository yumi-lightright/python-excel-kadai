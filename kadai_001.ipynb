{
  "nbformat": 4,
  "nbformat_minor": 0,
  "metadata": {
    "colab": {
      "provenance": []
    },
    "kernelspec": {
      "name": "python3",
      "display_name": "Python 3"
    },
    "language_info": {
      "name": "python"
    }
  },
  "cells": [
    {
      "cell_type": "code",
      "execution_count": 1,
      "metadata": {
        "colab": {
          "base_uri": "https://localhost:8080/"
        },
        "id": "BV7vkGT1b8XB",
        "outputId": "8babf0fb-33d4-414a-e51f-c85227459d93"
      },
      "outputs": [
        {
          "output_type": "stream",
          "name": "stdout",
          "text": [
            "Collecting openpyxl==3.0.10\n",
            "  Downloading openpyxl-3.0.10-py2.py3-none-any.whl.metadata (2.4 kB)\n",
            "Requirement already satisfied: et-xmlfile in /usr/local/lib/python3.11/dist-packages (from openpyxl==3.0.10) (2.0.0)\n",
            "Downloading openpyxl-3.0.10-py2.py3-none-any.whl (242 kB)\n",
            "\u001b[2K   \u001b[90m━━━━━━━━━━━━━━━━━━━━━━━━━━━━━━━━━━━━━━━━\u001b[0m \u001b[32m242.1/242.1 kB\u001b[0m \u001b[31m3.8 MB/s\u001b[0m eta \u001b[36m0:00:00\u001b[0m\n",
            "\u001b[?25hInstalling collected packages: openpyxl\n",
            "  Attempting uninstall: openpyxl\n",
            "    Found existing installation: openpyxl 3.1.5\n",
            "    Uninstalling openpyxl-3.1.5:\n",
            "      Successfully uninstalled openpyxl-3.1.5\n",
            "Successfully installed openpyxl-3.0.10\n"
          ]
        }
      ],
      "source": [
        "pip install openpyxl==3.0.10"
      ]
    },
    {
      "cell_type": "code",
      "source": [
        "import openpyxl\n",
        "from openpyxl.styles import Alignment, Font\n",
        "from datetime import datetime\n",
        "\n",
        "# 現在の日付を取得してファイル名を作成\n",
        "current_date = datetime.now().strftime(\"%Y%m%d\")\n",
        "file_name = f\"請求書_{current_date}.xlsx\"\n",
        "\n",
        "# Excel ワークブックとシートを作成\n",
        "wb = openpyxl.Workbook()\n",
        "ws = wb.active\n",
        "ws.title = \"請求書\"\n",
        "\n",
        "# 固定データ（請求先情報）\n",
        "billing_info = [\n",
        "    \"請求書\",\n",
        "    \"\",\n",
        "    \"株式会社ABC\",\n",
        "    \"〒101-0022 東京都千代田区神田練塀町300\",\n",
        "    \"TEL: 03-1234-5678    FAX: 03-1234-5678\",\n",
        "    \"担当者名: 鈴木一郎 様\",\n",
        "    \"\",\n",
        "]\n",
        "\n",
        "# 商品データ\n",
        "products = [\n",
        "    [\"商品名\", \"数量\", \"単価\", \"金額\"],\n",
        "    [\"商品A\", 2, 10000, 2 * 10000],\n",
        "    [\"商品B\", 1, 15000, 1 * 15000],\n",
        "]\n",
        "\n",
        "# 消費税率\n",
        "tax_rate = 0.1\n",
        "\n",
        "# 1. 請求先情報を記載（2行目2列目から開始）\n",
        "for i, info in enumerate(billing_info, start=2):\n",
        "    ws[f\"B{i}\"] = info  # 列をBに変更\n",
        "    ws.merge_cells(start_row=i, start_column=2, end_row=i, end_column=5)  # B～E列をマージ\n",
        "    ws[f\"B{i}\"].alignment = Alignment(horizontal=\"left\")\n",
        "\n",
        "# 空行\n",
        "start_row = len(billing_info) + 2\n",
        "\n",
        "# 2. 商品情報を記載（請求先情報の下から開始）\n",
        "for i, product in enumerate(products, start=start_row):\n",
        "    for j, value in enumerate(product, start=2):  # 列をB（2列目）から開始\n",
        "        ws.cell(row=i, column=j).value = value\n",
        "        ws.cell(row=i, column=j).alignment = Alignment(horizontal=\"center\")\n",
        "        if i == start_row:  # ヘッダー行を太字にする\n",
        "            ws.cell(row=i, column=j).font = Font(bold=True)\n",
        "\n",
        "# 合計金額の計算\n",
        "subtotal = sum(row[3] for row in products[1:])  # 金額列の合計\n",
        "tax = int(subtotal * tax_rate)  # 消費税\n",
        "total = subtotal + tax\n",
        "\n",
        "#合計金額を表示\n",
        "ws[\"E12\"] = subtotal\n",
        "ws[\"E12\"].alignment = Alignment(horizontal=\"center\")  # 左よせ\n",
        "\n",
        "\n",
        "# 3. 合計金額を記載（商品情報の下に配置）\n",
        "summary_data = [\n",
        "    [\"小計\", subtotal],\n",
        "    [\"消費税\", tax],\n",
        "    [\"税込合計\", total],\n",
        "]\n",
        "\n",
        "summary_start_row = start_row + len(products) + 2\n",
        "for i, (label, value) in enumerate(summary_data, start=summary_start_row):\n",
        "    ws[f\"C{i}\"] = label\n",
        "    ws[f\"D{i}\"] = value\n",
        "    ws[f\"C{i}\"].font = Font(bold=True)\n",
        "    ws[f\"D{i}\"].alignment = Alignment(horizontal=\"right\")\n",
        "\n",
        "# 請求書番号と発行日を定義\n",
        "invoice_number = 1  # 整数として請求書番号を定義\n",
        "\n",
        "# ゼロ埋めで4桁形式にフォーマット\n",
        "formatted_invoice_number = f\"{invoice_number:04}\"\n",
        "issue_date = datetime.now().strftime(\"%Y/%m/%d\")  # 現在の日付をフォーマット\n",
        "\n",
        "# 請求書番号と日付をExcelシートに記載（2行目の右上に配置）\n",
        "ws[\"F4\"] = \"No.\"\n",
        "ws[\"G4\"] = formatted_invoice_number\n",
        "ws[\"F4\"].alignment = Alignment(horizontal=\"left\")  # 左寄せ\n",
        "ws[\"G4\"].alignment = Alignment(horizontal=\"left\")  # 左寄せ\n",
        "\n",
        "ws[\"F5\"] = \"日付\"\n",
        "ws[\"G5\"] = issue_date\n",
        "ws[\"F5\"].alignment = Alignment(horizontal=\"left\")  # 左寄せ\n",
        "ws[\"G5\"].alignment = Alignment(horizontal=\"left\")  # 左寄せ\n",
        "\n",
        "\n",
        "# 列幅の調整\n",
        "ws.column_dimensions[\"A\"].width = 20\n",
        "ws.column_dimensions[\"B\"].width = 10\n",
        "ws.column_dimensions[\"C\"].width = 15\n",
        "ws.column_dimensions[\"D\"].width = 15\n",
        "\n",
        "# Excelファイルを保存\n",
        "wb.save(file_name)\n",
        "print(f\"請求書が作成されました: {file_name}\")"
      ],
      "metadata": {
        "colab": {
          "base_uri": "https://localhost:8080/"
        },
        "id": "zFXvECp0vcHv",
        "outputId": "9c920071-8535-4169-a56e-8b3a5e5bda18"
      },
      "execution_count": 51,
      "outputs": [
        {
          "output_type": "stream",
          "name": "stdout",
          "text": [
            "請求書が作成されました: 請求書_20250413.xlsx\n"
          ]
        }
      ]
    }
  ]
}